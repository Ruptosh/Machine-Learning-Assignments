{
 "cells": [
  {
   "cell_type": "markdown",
   "id": "b2aa57f2",
   "metadata": {},
   "source": [
    "# Assignment 13 Solutions"
   ]
  },
  {
   "cell_type": "markdown",
   "id": "111120c6",
   "metadata": {},
   "source": [
    "##### 1. Provide an example of the concepts of Prior, Posterior, and Likelihood ?"
   ]
  },
  {
   "cell_type": "markdown",
   "id": "e009cf69",
   "metadata": {},
   "source": [
    "**Ans:-** Bayes theorem states the following:\n",
    "\n",
    "Posterior = Prior * Likelihood\n",
    "\n",
    "This can also be stated as P (A | B) = (P (B | A) * P(A)) / P(B) , where P(A|B) is the probability of A given B, also called posterior.\n",
    "\n",
    "Prior: Probability distribution representing knowledge or uncertainty of a data object prior or before observing it\n",
    "\n",
    "Posterior: Conditional probability distribution representing what parameters are likely after observing the data object\n",
    "\n",
    "Likelihood: The probability of falling under a specific category or class."
   ]
  },
  {
   "cell_type": "markdown",
   "id": "4ae857d4",
   "metadata": {},
   "source": [
    "##### 2. What role does Bayes' theorem play in the concept learning principle ?"
   ]
  },
  {
   "cell_type": "markdown",
   "id": "54b818f0",
   "metadata": {},
   "source": [
    "**Ans:-** Bayes' theorem plays a crucial role in the concept learning principle by providing a way to update our beliefs about a concept or hypothesis based on new evidence or data.\n",
    "\n",
    "In concept learning, we aim to infer the underlying concept or hypothesis that generates a set of observed data or examples. Bayes' theorem provides a formal framework for this inference process by allowing us to calculate the probability of a hypothesis given the data, also known as the posterior probability, based on our prior beliefs about the hypothesis and the likelihood of the data given the hypothesis.\n",
    "\n",
    "The concept learning principle involves iteratively updating our beliefs about a hypothesis as we observe more data or examples. Bayes' theorem allows us to do this by combining our prior beliefs with the new evidence or data to obtain a revised or updated probability distribution over the hypothesis space."
   ]
  },
  {
   "cell_type": "markdown",
   "id": "c981ac1e",
   "metadata": {},
   "source": [
    "##### 3. Offer an example of how the Nave Bayes classifier is used in real life ?"
   ]
  },
  {
   "cell_type": "markdown",
   "id": "18dbbb71",
   "metadata": {},
   "source": [
    "**Ans:-** Naive Bayes easily sorts out spam using keywords. For example, in spam, you can see the word ‘viagra’ much more often than in regular mail. The algorithm must be trained to recognize such probabilities and, then, it can efficiently apply them for spam filtering."
   ]
  },
  {
   "cell_type": "markdown",
   "id": "07ab2a64",
   "metadata": {},
   "source": [
    "##### 4. Can the Nave Bayes classifier be used on continuous numeric data? If so, how can you go about doing it ?"
   ]
  },
  {
   "cell_type": "markdown",
   "id": "a7d3e238",
   "metadata": {},
   "source": [
    "**Ans:-** Yes, the Naive Bayes classifier can be used on continuous numeric data. There are two common approaches to do so:\n",
    "\n",
    "Gaussian Naive Bayes:\n",
    "In Gaussian Naive Bayes, we assume that the continuous numeric data follows a Gaussian (normal) distribution. We estimate the mean and standard deviation of each numeric feature for each class (i.e., the target variable) from the training data. To make predictions on new data, we calculate the probability density function (PDF) of each numeric feature for each class and use Bayes' theorem to compute the posterior probability of each class given the data. Finally, we choose the class with the highest posterior probability as the predicted class.\n",
    "\n",
    "Kernel Density Estimation (KDE) Naive Bayes:\n",
    "In KDE Naive Bayes, we estimate the probability density function (PDF) of each numeric feature for each class using kernel density estimation. Kernel density estimation is a non-parametric technique for estimating the PDF of a random variable. We use the training data to estimate the kernel density function for each numeric feature for each class. To make predictions on new data, we estimate the PDF of each numeric feature for each class using the kernel density function and use Bayes' theorem to compute the posterior probability of each class given the data. Finally, we choose the class with the highest posterior probability as the predicted class.\n",
    "\n",
    "In summary, the Naive Bayes classifier can be used on continuous numeric data by assuming a Gaussian distribution (Gaussian Naive Bayes) or by estimating the PDF using kernel density estimation (KDE Naive Bayes). Both approaches are widely used and can be effective for certain types of data."
   ]
  },
  {
   "cell_type": "markdown",
   "id": "0be2162e",
   "metadata": {},
   "source": [
    "##### 5. What are Bayesian Belief Networks, and how do they work? What are their applications? Are they capable of resolving a wide range of issues ?"
   ]
  },
  {
   "cell_type": "markdown",
   "id": "268383b4",
   "metadata": {},
   "source": [
    "**Ans:-** Bayesian Belief Networks (BBNs) are graphical models that use probability theory to represent and reason about uncertainty and causality in complex systems. They are also known as Bayesian networks or probabilistic graphical models. BBNs consist of a directed acyclic graph (DAG) and conditional probability tables (CPTs) that describe the dependencies between variables and their probability distributions.\n",
    "\n",
    "The nodes in the graph represent variables (e.g., events, states, or actions), and the edges represent the causal relationships between them. The CPTs provide the probabilities of each variable conditioned on its parent variables in the graph. BBNs can be used for probabilistic inference, prediction, decision-making, and learning.\n",
    "\n",
    "BBNs have a wide range of applications in various fields, including:\n",
    "\n",
    "Medical diagnosis and treatment planning: BBNs can be used to model complex medical conditions and their associated risk factors, symptoms, and treatments. They can help doctors to make more accurate diagnoses and treatment plans based on patient data and medical knowledge.\n",
    "\n",
    "Financial risk analysis: BBNs can be used to model financial systems and predict the risks associated with investments, loans, and insurance policies. They can help financial analysts and investors to make more informed decisions and minimize their risks.\n",
    "\n",
    "Natural language processing: BBNs can be used to model the structure and semantics of natural language sentences and facilitate language understanding, generation, and translation.\n",
    "\n",
    "Environmental modeling: BBNs can be used to model complex environmental systems and predict the effects of human activities, climate change, and natural disasters on ecosystems, biodiversity, and human health.\n",
    "\n",
    "BBNs are capable of resolving a wide range of issues because they can represent complex and uncertain systems in a compact and intuitive way. They can handle incomplete and noisy data, integrate expert knowledge and data-driven learning, and provide probabilistic estimates of uncertainty and risk. However, BBNs have some limitations, such as the curse of dimensionality (i.e., the exponential growth of the number of parameters with the number of variables), the need for accurate and representative data, and the difficulty of learning and validating the models."
   ]
  },
  {
   "cell_type": "markdown",
   "id": "a96163dd",
   "metadata": {},
   "source": [
    "##### 6. Passengers are checked in an airport screening system to see if there is an intruder. Let I be the random variable that indicates whether someone is an intruder I = 1) or not I = 0), and A be the variable that indicates alarm I = 0). If an intruder is detected with probability P(A = 1|I = 1) = 0.98 and a non-intruder is detected with probability P(A = 1|I = 0) = 0.001, an alarm will be triggered, implying the error factor. The likelihood of an intruder in the passenger population is P(I = 1) = 0.00001. What are the chances that an alarm would be triggered when an individual is actually an intruder ?"
   ]
  },
  {
   "cell_type": "markdown",
   "id": "4cf62cdf",
   "metadata": {},
   "source": [
    "**Ans:-** To find the probability that an alarm would be triggered when an individual is actually an intruder, we need to calculate the posterior probability using Bayes' theorem.\n",
    "\n",
    "Let's define the following:\n",
    "\n",
    "I: the event that an individual is an intruder\n",
    "A: the event that an alarm is triggered\n",
    "We want to find P(I = 1|A = 1), i.e., the probability that an individual is an intruder given that an alarm is triggered.\n",
    "\n",
    "Using Bayes' theorem, we have:\n",
    "\n",
    "P(I = 1|A = 1) = P(A = 1|I = 1) * P(I = 1) / P(A = 1)\n",
    "\n",
    "We can calculate the denominator P(A = 1) using the law of total probability:\n",
    "\n",
    "P(A = 1) = P(A = 1|I = 1) * P(I = 1) + P(A = 1|I = 0) * P(I = 0)\n",
    "\n",
    "Substituting the given values, we get:\n",
    "\n",
    "P(A = 1) = 0.98 * 0.00001 + 0.001 * (1 - 0.00001) = 0.0010098\n",
    "\n",
    "Now, substituting the values into the Bayes' theorem equation:\n",
    "\n",
    "P(I = 1|A = 1) = 0.98 * 0.00001 / 0.0010098 ≈ 0.0097\n",
    "\n",
    "Therefore, the probability that an alarm would be triggered when an individual is actually an intruder is approximately 0.0097 or 0.97%. This shows that there is a high chance of false positives in the screening system."
   ]
  },
  {
   "cell_type": "markdown",
   "id": "6b3b649e",
   "metadata": {},
   "source": [
    "##### 7. An antibiotic resistance test (random variable T) has 1% false positives (i.e., 1% of those who are not immune to an antibiotic display a positive result in the test) and 5% false negatives (i.e., 1% of those who are not resistant to an antibiotic show a positive result in the test) (i.e. 5 percent of those actually resistant to an antibiotic test negative). Assume that 2% of those who were screened were antibiotic-resistant. Calculate the likelihood that a person who tests positive is actually immune (random variable D) ?"
   ]
  },
  {
   "cell_type": "markdown",
   "id": "03967130",
   "metadata": {},
   "source": [
    "**Ans:-** Let's define the following events:\n",
    "\n",
    "A: The person tests positive in the antibiotic resistance test.\n",
    "B: The person is actually immune to the antibiotic.\n",
    "We want to calculate P(B|A), the probability that a person is immune given that they tested positive. We can use Bayes' theorem to calculate this:\n",
    "\n",
    "P(B|A) = P(A|B) * P(B) / P(A)\n",
    "\n",
    "We know that P(A|B) is the true positive rate, which is 1 - the false negative rate. Therefore, P(A|B) = 1 - 0.05 = 0.95.\n",
    "\n",
    "P(B) is the prior probability of being immune, which is 0.02.\n",
    "\n",
    "To calculate P(A), we need to use the law of total probability:\n",
    "\n",
    "P(A) = P(A|B) * P(B) + P(A|not B) * P(not B)\n",
    "\n",
    "We know that P(A|not B) is the false positive rate, which is 0.01. P(not B) is the complement of P(B), which is 0.98.\n",
    "\n",
    "Therefore, P(A) = 0.95 * 0.02 + 0.01 * 0.98 = 0.0291.\n",
    "\n",
    "Now we can calculate P(B|A):\n",
    "\n",
    "P(B|A) = 0.95 * 0.02 / 0.0291 ≈ 0.652\n",
    "\n",
    "Therefore, the likelihood that a person who tests positive is actually immune to the antibiotic is about 65.2%.\n",
    "\n",
    "\n",
    "\n",
    "\n"
   ]
  },
  {
   "cell_type": "markdown",
   "id": "54020cf8",
   "metadata": {},
   "source": [
    "##### 8. In order to prepare for the test, a student knows that there will be one question in the exam that is either form A, B, or C. The chances of getting an A, B, or C on the exam are 30 percent, 20%, and 50 percent, respectively. During the planning, the student solved 9 of 10 type A problems, 2 of 10 type B problems, and 6 of 10 type C problems.\n",
    "1. What is the likelihood that the student can solve the exam problem?\n",
    "2. Given the student's solution, what is the likelihood that the problem was of form A?"
   ]
  },
  {
   "cell_type": "markdown",
   "id": "8b9b03ac",
   "metadata": {},
   "source": [
    "**Ans:-** "
   ]
  },
  {
   "cell_type": "markdown",
   "id": "9db681d1",
   "metadata": {},
   "source": [
    "##### 9. A bank installs a CCTV system to track and photograph incoming customers. Despite the constant influx of customers, we divide the timeline into 5 minute bins. There may be a customer coming into the bank with a 5% chance in each 5-minute time period, or there may be no customer (again, for simplicity, we assume that either there is 1 customer or none, not the case of multiple customers). If there is a client, the CCTV will detect them with a 99 percent probability. If there is no customer, the camera can take a false photograph with a 10% chance of detecting movement from other objects.\n",
    "1. How many customers come into the bank on a daily basis (10 hours)?\n",
    "2. On a daily basis, how many fake photographs (photographs taken when there is no customer) and how many missed photographs (photographs taken when there is a customer) are there?\n",
    "3. Explain likelihood that there is a customer if there is a photograph?"
   ]
  },
  {
   "cell_type": "code",
   "execution_count": null,
   "id": "10515406",
   "metadata": {},
   "outputs": [],
   "source": []
  },
  {
   "cell_type": "markdown",
   "id": "5b686929",
   "metadata": {},
   "source": [
    "##### 10. Create the conditional probability table associated with the node Won Toss in the Bayesian Belief network to represent the conditional independence assumptions of the Nave Bayes classifier for the match winning prediction problem in Section 6.4.4.?"
   ]
  },
  {
   "cell_type": "markdown",
   "id": "6cba458f",
   "metadata": {},
   "source": [
    "**Ans:-** "
   ]
  }
 ],
 "metadata": {
  "kernelspec": {
   "display_name": "Python 3 (ipykernel)",
   "language": "python",
   "name": "python3"
  },
  "language_info": {
   "codemirror_mode": {
    "name": "ipython",
    "version": 3
   },
   "file_extension": ".py",
   "mimetype": "text/x-python",
   "name": "python",
   "nbconvert_exporter": "python",
   "pygments_lexer": "ipython3",
   "version": "3.9.13"
  }
 },
 "nbformat": 4,
 "nbformat_minor": 5
}
