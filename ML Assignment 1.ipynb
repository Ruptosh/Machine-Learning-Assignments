{
 "cells": [
  {
   "cell_type": "markdown",
   "id": "737c9cc9",
   "metadata": {},
   "source": [
    "# ML Assignment 1"
   ]
  },
  {
   "cell_type": "code",
   "execution_count": null,
   "id": "cea8488e",
   "metadata": {},
   "outputs": [],
   "source": [
    "1. What does one mean by the term \"machine learning\"?\n",
    "Ans - Machine learning (ML) is the sub-category of artificial intelligence (AI) that builds algorithmic \n",
    "    models to identify patterns and relationships in data. In this context, the word machine is a synonym \n",
    "    for computer program and the word learning describes how ML algorithms become more accurate as they \n",
    "    receive additional data. Basically, It uses algorithms to examine large volumes of information or training data to \n",
    "    discover unique patterns. This system analyzes these patterns, groups them accordingly, and makes predictions."
   ]
  },
  {
   "cell_type": "code",
   "execution_count": null,
   "id": "8ea652d7",
   "metadata": {},
   "outputs": [],
   "source": [
    "2.Can you think of 4 distinct types of issues where it shines?\n",
    "Ans:- Machine learning algorithms have had good results on problems such has spam detection in email, cancer diagnosis, \n",
    "    fraudulent credit card transactions, and Product Recommendations."
   ]
  },
  {
   "cell_type": "code",
   "execution_count": null,
   "id": "5e031f2c",
   "metadata": {},
   "outputs": [],
   "source": [
    "3.What is a labeled training set, and how does it work?\n",
    "Ans:- A labeled training set is a collection of data where one of the features of the data indicates the class the \n",
    "    training example belongs to. A labeled training set is used in supervised learning algorithms."
   ]
  },
  {
   "cell_type": "code",
   "execution_count": null,
   "id": "7eed0244",
   "metadata": {},
   "outputs": [],
   "source": [
    "4.What are the two most important tasks that are supervised?\n",
    "Ans:- The two most common supervised learning tasks are regression and classification. In a regression problem,\n",
    "    our prediciton is a scalar value. When we're trying to solve a classification problem, our output is either 1 or 0."
   ]
  },
  {
   "cell_type": "code",
   "execution_count": null,
   "id": "5dd2943a",
   "metadata": {},
   "outputs": [],
   "source": [
    "5.Can you think of four examples of unsupervised tasks?\n",
    "Ans:- Unsupervised tasks include clustering, visualization, dimensionality reduction and association rule learning"
   ]
  },
  {
   "cell_type": "code",
   "execution_count": null,
   "id": "bf752c4a",
   "metadata": {},
   "outputs": [],
   "source": [
    "6.State the machine learning model that would be best to make a robot walk through various unfamiliar terrains?\n",
    "Ans:- The best way is to use a reinforcement learning approach. Reinforcement learning is a system where an \"agent\" observes \n",
    "    the environment, selects and performs actions, then recieves a reward or punishment based on the result of \n",
    "    the action. Over time the agent learns by itself what is the most productive strategy."
   ]
  },
  {
   "cell_type": "code",
   "execution_count": null,
   "id": "59e446a9",
   "metadata": {},
   "outputs": [],
   "source": [
    "7.Which algorithm will you use to divide your customers into different groups?\n",
    "Ans:- I would use some sort of clustering algorithm that can find the decision boundaries in the groups automatically. \n",
    "    This is an unsupervised approach. However, if I already knew the categories of my customers, then I would choose a \n",
    "    supervised approach and go with a classification algorithm."
   ]
  },
  {
   "cell_type": "code",
   "execution_count": null,
   "id": "a3b714af",
   "metadata": {},
   "outputs": [],
   "source": [
    "8.Will you consider the problem of spam detection to be a supervised or unsupervised learning problem?\n",
    "Ans:- I will consider it as a supervised learning problem because humans have a general idea about what spam is and what \n",
    "    it isn't. We can use this notion to create a labeled dataset for an algorithm to learn from."
   ]
  },
  {
   "cell_type": "code",
   "execution_count": null,
   "id": "29aad538",
   "metadata": {},
   "outputs": [],
   "source": [
    "9.What is the concept of an online learning system?\n",
    "Ans:- An online learning system learns from new data on-the-fly. As a result, the system is trained incrementally \n",
    "    either by using one example at a time or using a mini-batch approach. This keeps each learning step cheap and \n",
    "    memory efficient."
   ]
  },
  {
   "cell_type": "code",
   "execution_count": null,
   "id": "8adb297d",
   "metadata": {},
   "outputs": [],
   "source": [
    "10.What is out-of-core learning, and how does it differ from core learning?\n",
    "Ans:- Out-of-core learning is used when a dataset is too large to fit into a computer's memory. The algorithm \n",
    "    loads part of the data, runs a training step, then repeats the process until it has run on all the data."
   ]
  },
  {
   "cell_type": "code",
   "execution_count": null,
   "id": "9d019dda",
   "metadata": {},
   "outputs": [],
   "source": [
    "11.What kind of learning algorithm makes predictions using a similarity measure?\n",
    "Ans:- Instance-based learning algorithms use a measure of similarity to generalize to new cases. In an instance-based \n",
    "    learning system, the algorithm learns the examples by heart, then uses the similarity measure to generalize."
   ]
  },
  {
   "cell_type": "code",
   "execution_count": null,
   "id": "a246f099",
   "metadata": {},
   "outputs": [],
   "source": [
    "12.What's the difference between a model parameter and a hyperparameter in a learning algorithm?\n",
    "Ans:- A hyperparameter is a parameter of the learning algorithm, not the model. For example, in a simple linear \n",
    "    regression problem our model is parameterized by theta which is a vector of weights. In order to find the best \n",
    "    values for theta we have a cost function which is run repeatedly by the gradient descent algorithm. Gradient \n",
    "    descent has a hyperparameter called alpha which is the learning rate of the algorithm. Model Parameters are the \n",
    "    parameters in the model that must be determined using the training data set. These are the fitted parameters"
   ]
  },
  {
   "cell_type": "code",
   "execution_count": null,
   "id": "a2244061",
   "metadata": {},
   "outputs": [],
   "source": [
    "13.What are the criteria that model-based learning algorithms look for? What is the most popular method they use to \n",
    "    achieve success? What method do they use to make predictions?\n",
    "Ans:- The goal for a model-based algorithm is to be able to generalize to new examples. To do this, model based \n",
    "    algorithms search for optimal values for the model's parameters, often called theta. This searching, or \"learning\",\n",
    "    is what machine learning is all about. Model-based system learn by minimizing a cost function that measures how \n",
    "    bad the system is at making predicitons on new data, plus a penalty for model complexity if the model is regularized.\n",
    "    To make a prediction, a new instance's features are fed into a hypothesis function which uses the minimized theta \n",
    "    found by repeatedly running the cost function."
   ]
  },
  {
   "cell_type": "code",
   "execution_count": null,
   "id": "6fa4b122",
   "metadata": {},
   "outputs": [],
   "source": [
    "14.Can you name four of the most important Machine Learning challenges?\n",
    "Ans:- 1. Inadequate Training Data:- The major issue that comes while using machine learning algorithms is the lack of \n",
    "        quality as well as quantity of data. Although data plays a vital role in the processing of machine learning \n",
    "        algorithms, many data scientists claim that inadequate data, noisy data, and unclean data are extremely exhausting \n",
    "        the machine learning algorithms\n",
    "      2. Poor quality of data:- It is a major common problem while processing machine learning algorithms.\n",
    "      3. Non-representative training data:- To make sure our training model is generalized well or not, we have to ensure \n",
    "        that sample training data must be representative of new cases that we need to generalize. The training data must \n",
    "        cover all cases that are already occurred as well as occurring.Further, if we are using non-representative training\n",
    "        data in the model, it results in less accurate predictions.\n",
    "      4. Overfitting and Underfitting:- Overfitting is a problem in ML when train data has low bias but test data has high\n",
    "        variance. Underfitting is a problem in ML when train data has high bias but test data has high\n",
    "        variance."
   ]
  },
  {
   "cell_type": "code",
   "execution_count": null,
   "id": "080ef722",
   "metadata": {},
   "outputs": [],
   "source": [
    "15.What happens if the model performs well on the training data but fails to generalize the results to new situations? \n",
    "    Can you think of three different options?\n",
    "Ans:- This is a case where the model is overfitting the training data. To couteract overfitting, we can reduce the \n",
    "    complexity of the model by removing features or constraining the parameters. We could gather more data. Finally we \n",
    "    can reduce noisiness in the data by fixing errors and removing outliers."
   ]
  },
  {
   "cell_type": "code",
   "execution_count": null,
   "id": "940daa72",
   "metadata": {},
   "outputs": [],
   "source": [
    "16.What exactly is a test set, and why would you need one?\n",
    "Ans:- When we want to know how well our model generalizes to new cases we prefer to use a test set instead of \n",
    "    actually deploying the system. To build the test set we split the training data (50-50, 60-40, 80-20 are common splits)\n",
    "    into a training set and test set. Our model is training with the training set. Then we use the model to run predictions\n",
    "    on the test set. Our error rate on the test set is called the generalization error or out-of-sample error. This error \n",
    "    tells us how well our model performs on examples it has never seen before.\n",
    "\n",
    "    If the training error is low, but the generalization error is high, it means we're overfitting our model."
   ]
  },
  {
   "cell_type": "code",
   "execution_count": null,
   "id": "d14adc8f",
   "metadata": {},
   "outputs": [],
   "source": [
    "17.What is a validation set's purpose?\n",
    "Ans:- A validation dataset is a collection of instances used to fine-tune a classifier’s hyperparameters.\n",
    "    The number of hidden units in each layer is one good analogy of a hyperparameter for machine learning neural networks.\n",
    "    It should have the same probability distribution as the training dataset, as should the testing dataset. When a \n",
    "    classification variable must be updated, a validation dataset in machine learning, including the test and training\n",
    "    datasets, is required to avoid overfitting.If the most appropriate classifier for the problem is sought, the training\n",
    "    dataset is used to train the various candidate classifiers, the data validation in machine learning is used to compare\n",
    "    their performances and choose which one to employ, and the test dataset is used to acquire performance characteristics\n",
    "    like as F-measure, sensitivity, accuracy or specificity."
   ]
  },
  {
   "cell_type": "code",
   "execution_count": null,
   "id": "53946759",
   "metadata": {},
   "outputs": [],
   "source": [
    "18.What precisely is the train-dev kit, when will you need it, how do you put it to use?\n",
    "Ans:- The goal of dev-set is to rank the models in term of their accuracy and helps us decide which model \n",
    "    to proceed further with. \n",
    "    Using Dev set we rank all our models in terms of their accuracy and pick the best \n",
    "    performing model.\n",
    "    Setting up the training, development (dev) and test sets has a huge impact on productivity. It is important \n",
    "    to choose the dev and test sets from the same distribution and it must be taken randomly from all the data."
   ]
  },
  {
   "cell_type": "code",
   "execution_count": null,
   "id": "a75a5cf1",
   "metadata": {},
   "outputs": [],
   "source": [
    "19.What could go wrong if you use the test set to tune hyperparameters?\n",
    "Ans: -The model will not generalize well to unseen data because it overfits the test set. Tuning model hyper-parameters\n",
    "    to a test set means that the hyper-parameters may overfit to that test set. If the same test set is used to estimate\n",
    "    performance, it will produce an overestimate. The test set should be used only for testing, not for parameter tuning.\n",
    "    Using a separate validation set for tuning and test set for measuring performance provides unbiased, realistic \n",
    "    measurement of performance."
   ]
  },
  {
   "cell_type": "code",
   "execution_count": null,
   "id": "9536f7d9",
   "metadata": {},
   "outputs": [],
   "source": []
  },
  {
   "cell_type": "code",
   "execution_count": null,
   "id": "475f3a5f",
   "metadata": {},
   "outputs": [],
   "source": []
  },
  {
   "cell_type": "code",
   "execution_count": null,
   "id": "36ce491f",
   "metadata": {},
   "outputs": [],
   "source": []
  },
  {
   "cell_type": "code",
   "execution_count": null,
   "id": "0bb8ce90",
   "metadata": {},
   "outputs": [],
   "source": []
  },
  {
   "cell_type": "code",
   "execution_count": null,
   "id": "dd39bba0",
   "metadata": {},
   "outputs": [],
   "source": []
  },
  {
   "cell_type": "code",
   "execution_count": null,
   "id": "b792a8b0",
   "metadata": {},
   "outputs": [],
   "source": []
  },
  {
   "cell_type": "code",
   "execution_count": null,
   "id": "b22b048e",
   "metadata": {},
   "outputs": [],
   "source": []
  }
 ],
 "metadata": {
  "kernelspec": {
   "display_name": "Python 3 (ipykernel)",
   "language": "python",
   "name": "python3"
  },
  "language_info": {
   "codemirror_mode": {
    "name": "ipython",
    "version": 3
   },
   "file_extension": ".py",
   "mimetype": "text/x-python",
   "name": "python",
   "nbconvert_exporter": "python",
   "pygments_lexer": "ipython3",
   "version": "3.9.13"
  }
 },
 "nbformat": 4,
 "nbformat_minor": 5
}
